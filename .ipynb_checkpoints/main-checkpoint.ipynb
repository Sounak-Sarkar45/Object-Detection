{
 "cells": [
  {
   "cell_type": "code",
   "execution_count": 1,
   "id": "6e97fee4-ea8c-468d-99f8-7ad8b1752043",
   "metadata": {},
   "outputs": [],
   "source": [
    "import numpy\n",
    "import cv2\n",
    "from PIL import Image\n",
    "from util import get_limits"
   ]
  },
  {
   "cell_type": "code",
   "execution_count": 3,
   "id": "b71df52e-514e-4a91-b94f-1f5039a396c9",
   "metadata": {},
   "outputs": [],
   "source": [
    "yellow=[0,255,255]\n",
    "cap=cv2.VideoCapture(0)\n",
    "while True:\n",
    "    ret,frame=cap.read()\n",
    "    hsv_image=cv2.cvtColor(frame,cv2.COLOR_BGR2HSV)\n",
    "    lowerLimit, upperLimit=get_limits(color=yellow)\n",
    "    mask=cv2.inRange(hsv_image,lowerLimit,upperLimit)\n",
    "    mask_=Image.fromarray(mask)\n",
    "    bbox=mask_.getbbox()\n",
    "    if bbox is not None:\n",
    "        x1,y1,x2,y2=bbox\n",
    "        frame=cv2.rectangle(frame,(x1,y1),(x2,y2),(0,255,0),5)\n",
    "    cv2.imshow('frame',frame)\n",
    "    if cv2.waitKey(1) & 0xFF==ord('q'):\n",
    "        break\n",
    "cap.release()\n",
    "cv2.destroyAllWindows()"
   ]
  },
  {
   "cell_type": "code",
   "execution_count": null,
   "id": "d8ce73b6-9e89-4579-9ec4-8b482a8aceca",
   "metadata": {},
   "outputs": [],
   "source": []
  }
 ],
 "metadata": {
  "kernelspec": {
   "display_name": "Python 3 (ipykernel)",
   "language": "python",
   "name": "python3"
  },
  "language_info": {
   "codemirror_mode": {
    "name": "ipython",
    "version": 3
   },
   "file_extension": ".py",
   "mimetype": "text/x-python",
   "name": "python",
   "nbconvert_exporter": "python",
   "pygments_lexer": "ipython3",
   "version": "3.12.4"
  }
 },
 "nbformat": 4,
 "nbformat_minor": 5
}
